{
 "cells": [
  {
   "cell_type": "code",
   "execution_count": null,
   "id": "84af6474",
   "metadata": {},
   "outputs": [],
   "source": [
    "# IMPORTING LIBRARIES\n",
    "\n",
    "# General Libraries\n",
    "\n",
    "import os\n",
    "import numpy as np\n",
    "import pandas as pd\n",
    "import seaborn as sns\n",
    "from scipy.stats import norm\n",
    "from collections import Counter\n",
    "import matplotlib.pyplot as plt\n",
    "\n",
    "import warnings\n",
    "warnings.filterwarnings(action=\"ignore\")\n",
    "\n",
    "# additional libraries\n",
    "\n",
    "from sklearn.model_selection import train_test_split\n",
    "from sklearn.model_selection import StratifiedShuffleSplit\n",
    "from sklearn.model_selection import cross_val_predict\n",
    "from sklearn.model_selection import RandomizedSearchCV\n",
    "from sklearn.model_selection import KFold, cross_validate\n",
    "from sklearn.model_selection import RepeatedStratifiedKFold, StratifiedKFold\n",
    "from sklearn.model_selection import RandomizedSearchCV\n",
    "from sklearn.model_selection import GridSearchCV\n",
    "from sklearn import metrics\n",
    "from miceforest import ImputationKernel\n",
    "from sklearn.preprocessing import MinMaxScaler\n",
    "from sklearn.model_selection import cross_val_predict\n",
    "from sklearn.metrics import accuracy_score\n",
    "import statistics\n",
    "from sklearn.model_selection import cross_val_score\n",
    "from sklearn.metrics import roc_curve\n",
    "import matplotlib.gridspec as gridspec\n",
    "import missingno as msno\n",
    "from statsmodels.stats.outliers_influence import variance_inflation_factor\n",
    "\n",
    "\n",
    "# Machine Learning Libraries\n",
    "\n",
    "import sklearn\n",
    "import xgboost as xgb\n",
    "from sklearn import tree\n",
    "from sklearn.svm import SVC\n",
    "from catboost import CatBoostClassifier\n",
    "from imblearn.over_sampling import SMOTE\n",
    "from sklearn.metrics import classification_report\n",
    "from sklearn.ensemble import RandomForestClassifier\n",
    "from sklearn.linear_model import LogisticRegression\n",
    "from sklearn.neighbors import KNeighborsClassifier\n",
    "from sklearn.tree import DecisionTreeClassifier\n",
    "from sklearn.ensemble import RandomForestClassifier\n",
    "from sklearn.ensemble import RandomForestClassifier\n",
    "from sklearn.ensemble import AdaBoostClassifier\n",
    "from catboost import CatBoostClassifier\n",
    "from sklearn import svm\n",
    "import lightgbm as lgb\n",
    "from lightgbm import LGBMClassifier\n",
    "import xgboost as xgb"
   ]
  },
  {
   "cell_type": "code",
   "execution_count": null,
   "id": "f0c28972",
   "metadata": {
    "scrolled": true
   },
   "outputs": [],
   "source": [
    "# we first read the dataset with normal companies\n",
    "final_normal = pd.read_excel('final_normal.xlsx')\n",
    "print ('The Shape of Dataset: ',final_normal.shape)\n",
    "final_normal.head()"
   ]
  },
  {
   "cell_type": "code",
   "execution_count": null,
   "id": "33a1a472",
   "metadata": {},
   "outputs": [],
   "source": [
    "# then we read the dataset with companies labelled with financial distress\n",
    "final_fin_distress = pd.read_excel('final_fin_distress.xlsx')\n",
    "print ('The Shape of Dataset: ',final_fin_distress.shape)\n",
    "final_fin_distress.head()"
   ]
  },
  {
   "cell_type": "code",
   "execution_count": null,
   "id": "9472ab90",
   "metadata": {},
   "outputs": [],
   "source": [
    "final_normal['FINANCIAL_DISTRESS'] = 0\n",
    "final_fin_distress['FINANCIAL_DISTRESS'] = 1"
   ]
  },
  {
   "cell_type": "code",
   "execution_count": null,
   "id": "dd2b76a1",
   "metadata": {},
   "outputs": [],
   "source": [
    "print ('The Shape of Dataset: ',final_fin_distress.shape)\n",
    "final_fin_distress.head()"
   ]
  },
  {
   "cell_type": "code",
   "execution_count": null,
   "id": "a3f869a3",
   "metadata": {},
   "outputs": [],
   "source": [
    "print ('The Shape of Dataset: ',final_normal.shape)\n",
    "final_normal.head()"
   ]
  },
  {
   "cell_type": "code",
   "execution_count": null,
   "id": "e2e00122",
   "metadata": {},
   "outputs": [],
   "source": [
    "dataset = pd.concat([final_normal, final_fin_distress])"
   ]
  },
  {
   "cell_type": "code",
   "execution_count": null,
   "id": "ebfd6fc3",
   "metadata": {},
   "outputs": [],
   "source": [
    "print ('The Shape of Dataset: ',dataset.shape)\n",
    "dataset.head()"
   ]
  },
  {
   "cell_type": "code",
   "execution_count": null,
   "id": "8bf323c3",
   "metadata": {},
   "outputs": [],
   "source": [
    "# checking for missing data\n",
    "msno.matrix(dataset)"
   ]
  },
  {
   "cell_type": "code",
   "execution_count": null,
   "id": "811b8e9f",
   "metadata": {},
   "outputs": [],
   "source": [
    "# we see that some columns contain too many missing rows\n",
    "dataset.drop(columns=['AssetsNoncurrent', 'LiabilitiesNoncurrent', 'GrossProfit'], inplace=True)"
   ]
  },
  {
   "cell_type": "code",
   "execution_count": null,
   "id": "0874c50b",
   "metadata": {},
   "outputs": [],
   "source": [
    "# checking for missing data\n",
    "msno.matrix(dataset)"
   ]
  },
  {
   "cell_type": "code",
   "execution_count": null,
   "id": "604ed0f0",
   "metadata": {
    "scrolled": true
   },
   "outputs": [],
   "source": [
    "# drop non-informational columns\n",
    "dataset.drop(columns=['ticker', 'CIK', 'NewsNegative', 'NewsPositive', 'NewsNeutral'], inplace=True)"
   ]
  },
  {
   "cell_type": "code",
   "execution_count": null,
   "id": "3aaf49cb",
   "metadata": {},
   "outputs": [],
   "source": [
    "mice_kernel = ImputationKernel(\n",
    "data = dataset,\n",
    "save_all_iterations = True,\n",
    "random_state = 2023\n",
    ")"
   ]
  },
  {
   "cell_type": "code",
   "execution_count": null,
   "id": "7f768ac7",
   "metadata": {
    "scrolled": true
   },
   "outputs": [],
   "source": [
    "mice_kernel.mice(2)\n",
    "mice_imputation = mice_kernel.complete_data()\n",
    "mice_imputation.head()"
   ]
  },
  {
   "cell_type": "code",
   "execution_count": null,
   "id": "33e5f9ad",
   "metadata": {},
   "outputs": [],
   "source": [
    "dataset = mice_imputation"
   ]
  },
  {
   "cell_type": "code",
   "execution_count": null,
   "id": "88d0540a",
   "metadata": {},
   "outputs": [],
   "source": [
    "# checking for missing data\n",
    "msno.matrix(dataset)"
   ]
  },
  {
   "cell_type": "code",
   "execution_count": null,
   "id": "02d24bf1",
   "metadata": {},
   "outputs": [],
   "source": [
    "# see the histograms in order to compare with normal distribution\n",
    "fig, ax = plt.subplots(10,3, figsize=(17,12), constrained_layout=True)\n",
    "ax=ax.flatten()\n",
    "sns.set_style(\"darkgrid\")\n",
    "for num, col in enumerate(dataset.columns):\n",
    "    sns.histplot(dataset[col], ax=ax[num])\n",
    "plt.show()"
   ]
  },
  {
   "cell_type": "code",
   "execution_count": null,
   "id": "750f5460",
   "metadata": {},
   "outputs": [],
   "source": [
    "dataset.replace([np.inf, -np.inf], 0, inplace=True)"
   ]
  },
  {
   "cell_type": "code",
   "execution_count": null,
   "id": "9d2c42fa",
   "metadata": {},
   "outputs": [],
   "source": [
    "plt.figure(figsize=(12,9))\n",
    "sns.heatmap(dataset.corr(), annot=True, fmt='.2f')"
   ]
  },
  {
   "cell_type": "code",
   "execution_count": null,
   "id": "de0eed69",
   "metadata": {},
   "outputs": [],
   "source": [
    "# correlation between concrete_compressive_strength(label) and the rest (features)\n",
    "corr=dataset.corr()\n",
    "corr['FINANCIAL_DISTRESS']\n",
    "correlation_df=pd.Series(corr['FINANCIAL_DISTRESS']).to_frame()\n",
    "correlation_df.sort_values(by='FINANCIAL_DISTRESS',ascending=False)"
   ]
  },
  {
   "cell_type": "code",
   "execution_count": null,
   "id": "74eb842d",
   "metadata": {},
   "outputs": [],
   "source": [
    "# we should also check data for multicollinearity\n",
    "## VIF dataframe\n",
    "vif_data = pd.DataFrame()\n",
    "vif_data[\"feature\"] = dataset.drop('FINANCIAL_DISTRESS', axis=1).columns\n",
    "  \n",
    "### calculating VIF for each feature\n",
    "vif_data[\"VIF\"] = [variance_inflation_factor(dataset.drop('FINANCIAL_DISTRESS', axis=1).values, i)\n",
    "                          for i in range(len(dataset.drop('FINANCIAL_DISTRESS', axis=1).columns))]"
   ]
  },
  {
   "cell_type": "code",
   "execution_count": null,
   "id": "5e7d0149",
   "metadata": {},
   "outputs": [],
   "source": [
    "vif_data"
   ]
  },
  {
   "cell_type": "code",
   "execution_count": null,
   "id": "9ec6d0af",
   "metadata": {},
   "outputs": [],
   "source": [
    "# basically we see, that for several features VIF is higher than 8-10, so some of them should be eliminated\n",
    "dataset.drop('Assets', axis = 1, inplace=True)"
   ]
  },
  {
   "cell_type": "code",
   "execution_count": null,
   "id": "5961ff93",
   "metadata": {},
   "outputs": [],
   "source": [
    "# restate VIF test\n",
    "vif_data = pd.DataFrame()\n",
    "vif_data[\"feature\"] = dataset.drop('FINANCIAL_DISTRESS', axis=1).columns\n",
    "vif_data[\"VIF\"] = [variance_inflation_factor(dataset.drop('FINANCIAL_DISTRESS', axis=1).values, i)\n",
    "                          for i in range(len(dataset.drop('FINANCIAL_DISTRESS', axis=1).columns))]"
   ]
  },
  {
   "cell_type": "code",
   "execution_count": null,
   "id": "2e14a5f6",
   "metadata": {},
   "outputs": [],
   "source": [
    "vif_data"
   ]
  },
  {
   "cell_type": "code",
   "execution_count": null,
   "id": "6c3d0f8a",
   "metadata": {},
   "outputs": [],
   "source": [
    "# basically we see, that for several features VIF is higher than 8-10, so some of them should be eliminated\n",
    "dataset.drop(columns=['AssetsCurrent', 'LiabilitiesCurrent'], axis = 1, inplace=True)"
   ]
  },
  {
   "cell_type": "code",
   "execution_count": null,
   "id": "cda49ea2",
   "metadata": {},
   "outputs": [],
   "source": [
    "# restate VIF test\n",
    "vif_data = pd.DataFrame()\n",
    "vif_data[\"feature\"] = dataset.drop('FINANCIAL_DISTRESS', axis=1).columns\n",
    "vif_data[\"VIF\"] = [variance_inflation_factor(dataset.drop('FINANCIAL_DISTRESS', axis=1).values, i)\n",
    "                          for i in range(len(dataset.drop('FINANCIAL_DISTRESS', axis=1).columns))]"
   ]
  },
  {
   "cell_type": "code",
   "execution_count": null,
   "id": "4e7c1728",
   "metadata": {},
   "outputs": [],
   "source": [
    "vif_data"
   ]
  },
  {
   "cell_type": "code",
   "execution_count": null,
   "id": "d01197ff",
   "metadata": {},
   "outputs": [],
   "source": [
    "# basically we see, that for several features VIF is higher than 8-10, so some of them should be eliminated\n",
    "dataset.drop(columns=['ROE'], axis = 1, inplace=True)"
   ]
  },
  {
   "cell_type": "code",
   "execution_count": null,
   "id": "492752c7",
   "metadata": {},
   "outputs": [],
   "source": [
    "# restate VIF test\n",
    "vif_data = pd.DataFrame()\n",
    "vif_data[\"feature\"] = dataset.drop('FINANCIAL_DISTRESS', axis=1).columns\n",
    "vif_data[\"VIF\"] = [variance_inflation_factor(dataset.drop('FINANCIAL_DISTRESS', axis=1).values, i)\n",
    "                          for i in range(len(dataset.drop('FINANCIAL_DISTRESS', axis=1).columns))]"
   ]
  },
  {
   "cell_type": "code",
   "execution_count": null,
   "id": "58061ed2",
   "metadata": {},
   "outputs": [],
   "source": [
    "vif_data"
   ]
  },
  {
   "cell_type": "code",
   "execution_count": null,
   "id": "d8d06e1c",
   "metadata": {
    "scrolled": true
   },
   "outputs": [],
   "source": [
    "# outliers detection through boxplots\n",
    "for feature in dataset:\n",
    "    data= dataset.copy()\n",
    "    if 0 in data[feature].unique():\n",
    "        pass\n",
    "    else:\n",
    "        data[feature]=np.log(data[feature])\n",
    "        data.boxplot(column=feature)\n",
    "        plt.ylabel(feature)\n",
    "        plt.title(feature)\n",
    "        plt.show()"
   ]
  },
  {
   "cell_type": "code",
   "execution_count": null,
   "id": "1082c23d",
   "metadata": {},
   "outputs": [],
   "source": [
    "dataset[['NewsOverall','polarity_MD&A', 'D/A', 'D/E', 'FINANCIAL_DISTRESS', 'ROA', 'CurrentRatio']].describe()"
   ]
  },
  {
   "cell_type": "code",
   "execution_count": null,
   "id": "5422ef36",
   "metadata": {},
   "outputs": [],
   "source": [
    "X = dataset.drop('FINANCIAL_DISTRESS',axis=1)\n",
    "y = dataset['FINANCIAL_DISTRESS']"
   ]
  },
  {
   "cell_type": "code",
   "execution_count": null,
   "id": "e9c4c5e9",
   "metadata": {},
   "outputs": [],
   "source": [
    "sns.countplot(y)"
   ]
  },
  {
   "cell_type": "code",
   "execution_count": null,
   "id": "b2c96116",
   "metadata": {},
   "outputs": [],
   "source": [
    "scaler = MinMaxScaler()\n",
    "X = scaler.fit_transform(X)"
   ]
  },
  {
   "cell_type": "code",
   "execution_count": null,
   "id": "75c86267",
   "metadata": {},
   "outputs": [],
   "source": [
    "oversample = SMOTE()\n",
    "X,y=oversample.fit_resample(X,y)"
   ]
  },
  {
   "cell_type": "code",
   "execution_count": null,
   "id": "45e27ff7",
   "metadata": {},
   "outputs": [],
   "source": [
    "sns.countplot(y)"
   ]
  },
  {
   "cell_type": "code",
   "execution_count": null,
   "id": "cfbb0c61",
   "metadata": {},
   "outputs": [],
   "source": [
    "X_train, X_test, y_train, y_test = train_test_split(X, y, test_size=0.25, random_state=101)"
   ]
  },
  {
   "cell_type": "code",
   "execution_count": null,
   "id": "fa0ccda3",
   "metadata": {},
   "outputs": [],
   "source": [
    "def print_evaluate(true, predicted):\n",
    "    accuracy=np.round(accuracy_score(true, predicted),3)\n",
    "    precision=np.round(precision_score(true, predicted),3)\n",
    "    recall=np.round(recall_score(true, predicted),3)\n",
    "    f1=np.round(f1_score(true, predicted),3)\n",
    "    balanced_accuracy=np.round(balanced_accuracy_score(true, predicted),3)\n",
    "    roc_auc = np.round(roc_auc_score(true, predicted),3)\n",
    "    print('accuracy: ', accuracy)\n",
    "    print('precision: ', precision)\n",
    "    print('recall: ', recall)\n",
    "    print('f1:', f1)\n",
    "    print('balanced accuracy:', balanced_accuracy)\n",
    "    print('roc_auc:', roc_auc)\n",
    "\n",
    "def cross_val(model, X, y):\n",
    "    pred=cross_val_score(model, X,y,cv=5)\n",
    "    return np.round(pred.mean(),3)\n",
    "\n",
    "def evaluate(true, predicted):\n",
    "    accuracy=np.round(accuracy_score(true, predicted),3)\n",
    "    precision=np.round(precision_score(true, predicted),3)\n",
    "    recall=np.round(recall_score(true, predicted),3)\n",
    "    f1=np.round(f1_score(true, predicted),3)\n",
    "    balanced_accuracy=np.round(balanced_accuracy_score(true, predicted),3)\n",
    "    roc_auc = np.round(roc_auc_score(true, predicted),3)\n",
    "    \n",
    "    return accuracy, precision, recall, f1, balanced_accuracy, roc_auc"
   ]
  },
  {
   "cell_type": "code",
   "execution_count": null,
   "id": "54f19e4e",
   "metadata": {},
   "outputs": [],
   "source": [
    "log_reg = LogisticRegression()\n",
    "log_reg.fit(X_train,y_train)"
   ]
  },
  {
   "cell_type": "code",
   "execution_count": null,
   "id": "f4c1aa55",
   "metadata": {
    "scrolled": true
   },
   "outputs": [],
   "source": [
    "train_pred = log_reg.predict(X_train)\n",
    "\n",
    "print('Train set evaluation:\\n')\n",
    "print_evaluate(y_train, train_pred)\n",
    "print('--------------------------------\\n')\n",
    "cross_score=cross_val(log_reg, X_train, y_train)\n",
    "print('Cross_validation score:\\n')\n",
    "cross_score"
   ]
  },
  {
   "cell_type": "code",
   "execution_count": null,
   "id": "f97ca378",
   "metadata": {},
   "outputs": [],
   "source": [
    "results_df=pd.DataFrame(data=[['Logistic Regression', *evaluate(y_train, train_pred), cross_score]], columns=['Model', 'accuracy', 'precision', 'recall', 'f1', 'balanced_accuracy', 'roc_auc', 'cross_score'])\n",
    "results_df"
   ]
  },
  {
   "cell_type": "code",
   "execution_count": null,
   "id": "931e799d",
   "metadata": {
    "scrolled": true
   },
   "outputs": [],
   "source": [
    "lasso = LogisticRegression(penalty='l1', solver='liblinear')\n",
    "lasso.fit(X_train,y_train)"
   ]
  },
  {
   "cell_type": "code",
   "execution_count": null,
   "id": "ae3707f4",
   "metadata": {
    "scrolled": true
   },
   "outputs": [],
   "source": [
    "train_pred = lasso.predict(X_train)\n",
    "\n",
    "print('Train set evaluation:\\n')\n",
    "print_evaluate(y_train, train_pred)\n",
    "print('--------------------------------\\n')\n",
    "cross_score=cross_val(lasso, X_train, y_train)\n",
    "print('Cross_validation score:\\n')\n",
    "cross_score"
   ]
  },
  {
   "cell_type": "code",
   "execution_count": null,
   "id": "e44489db",
   "metadata": {},
   "outputs": [],
   "source": [
    "results_df=results_df.append(pd.DataFrame(data=[['Lasso', *evaluate(y_train, train_pred), cross_score]], columns=['Model', 'accuracy', 'precision', 'recall', 'f1', 'balanced_accuracy', 'roc_auc', 'cross_score']))\n",
    "results_df"
   ]
  },
  {
   "cell_type": "code",
   "execution_count": null,
   "id": "72f43f39",
   "metadata": {
    "scrolled": true
   },
   "outputs": [],
   "source": [
    "ridge = LogisticRegression(penalty='l2')\n",
    "ridge.fit(X_train,y_train)"
   ]
  },
  {
   "cell_type": "code",
   "execution_count": null,
   "id": "c8c9c5e0",
   "metadata": {
    "scrolled": true
   },
   "outputs": [],
   "source": [
    "train_pred = ridge.predict(X_train)\n",
    "\n",
    "print('Train set evaluation:\\n')\n",
    "print_evaluate(y_train, train_pred)\n",
    "print('--------------------------------\\n')\n",
    "cross_score=cross_val(ridge, X_train, y_train)\n",
    "print('Cross_validation score:\\n')\n",
    "cross_score"
   ]
  },
  {
   "cell_type": "code",
   "execution_count": null,
   "id": "3685919c",
   "metadata": {
    "scrolled": false
   },
   "outputs": [],
   "source": [
    "results_df=results_df.append(pd.DataFrame(data=[['Ridge', *evaluate(y_train, train_pred), cross_score]], columns=['Model', 'accuracy', 'precision', 'recall', 'f1', 'balanced_accuracy', 'roc_auc', 'cross_score']))\n",
    "results_df"
   ]
  },
  {
   "cell_type": "code",
   "execution_count": null,
   "id": "b566f81c",
   "metadata": {
    "scrolled": true
   },
   "outputs": [],
   "source": [
    "svc = SVC()\n",
    "svc.fit(X_train,y_train)"
   ]
  },
  {
   "cell_type": "code",
   "execution_count": null,
   "id": "a01f923f",
   "metadata": {
    "scrolled": true
   },
   "outputs": [],
   "source": [
    "train_pred = svc.predict(X_train)\n",
    "\n",
    "print('Train set evaluation:\\n')\n",
    "print_evaluate(y_train, train_pred)\n",
    "print('--------------------------------\\n')\n",
    "cross_score=cross_val(svc, X_train, y_train)\n",
    "print('Cross_validation score:\\n')\n",
    "cross_score"
   ]
  },
  {
   "cell_type": "code",
   "execution_count": null,
   "id": "dcde9517",
   "metadata": {},
   "outputs": [],
   "source": [
    "results_df=results_df.append(pd.DataFrame(data=[['Support Vector Machines', *evaluate(y_train, train_pred), cross_score]], columns=['Model', 'accuracy', 'precision', 'recall', 'f1', 'balanced_accuracy', 'roc_auc', 'cross_score']))\n",
    "results_df"
   ]
  },
  {
   "cell_type": "code",
   "execution_count": null,
   "id": "a8f960d2",
   "metadata": {},
   "outputs": [],
   "source": [
    "# test another classification algorithms\n",
    "rfr = RandomForestClassifier()\n",
    "rfr.fit(X_train,y_train)"
   ]
  },
  {
   "cell_type": "code",
   "execution_count": null,
   "id": "636c5f82",
   "metadata": {
    "scrolled": true
   },
   "outputs": [],
   "source": [
    "train_pred = rfr.predict(X_train)\n",
    "\n",
    "print('Train set evaluation:\\n')\n",
    "print_evaluate(y_train, train_pred)\n",
    "print('--------------------------------\\n')\n",
    "cross_score=cross_val(rfr, X_train, y_train)\n",
    "print('Cross_validation score:\\n')\n",
    "cross_score"
   ]
  },
  {
   "cell_type": "code",
   "execution_count": null,
   "id": "4abdae57",
   "metadata": {},
   "outputs": [],
   "source": [
    "results_df=results_df.append(pd.DataFrame(data=[['Random Forest', *evaluate(y_train, train_pred), cross_score]], columns=['Model', 'accuracy', 'precision', 'recall', 'f1', 'balanced_accuracy', 'roc_auc', 'cross_score']))\n",
    "results_df"
   ]
  },
  {
   "cell_type": "code",
   "execution_count": null,
   "id": "106c69ae",
   "metadata": {},
   "outputs": [],
   "source": [
    "# test another classification algorithms\n",
    "knears = KNeighborsClassifier()\n",
    "knears.fit(X_train,y_train)"
   ]
  },
  {
   "cell_type": "code",
   "execution_count": null,
   "id": "14ba10f4",
   "metadata": {
    "scrolled": true
   },
   "outputs": [],
   "source": [
    "train_pred = knears.predict(X_train)\n",
    "\n",
    "print('Train set evaluation:\\n')\n",
    "print_evaluate(y_train, train_pred)\n",
    "print('--------------------------------\\n')\n",
    "cross_score=cross_val(knears, X_train, y_train)\n",
    "print('Cross_validation score:\\n')\n",
    "cross_score"
   ]
  },
  {
   "cell_type": "code",
   "execution_count": null,
   "id": "df0aef8e",
   "metadata": {},
   "outputs": [],
   "source": [
    "results_df=results_df.append(pd.DataFrame(data=[['KNearest Neighbours', *evaluate(y_train, train_pred), cross_score]], columns=['Model', 'accuracy', 'precision', 'recall', 'f1', 'balanced_accuracy', 'roc_auc', 'cross_score']))\n",
    "results_df"
   ]
  },
  {
   "cell_type": "code",
   "execution_count": null,
   "id": "b1436560",
   "metadata": {
    "scrolled": true
   },
   "outputs": [],
   "source": [
    "# test another classification algorithms\n",
    "ab = AdaBoostClassifier()\n",
    "ab.fit(X_train,y_train)"
   ]
  },
  {
   "cell_type": "code",
   "execution_count": null,
   "id": "910259cd",
   "metadata": {},
   "outputs": [],
   "source": [
    "# predict target and make cross-validation\n",
    "train_pred = ab.predict(X_train)\n",
    "\n",
    "print('Train set evaluation:\\n')\n",
    "print_evaluate(y_train, train_pred)\n",
    "print('--------------------------------\\n')\n",
    "cross_score=cross_val(ab, X_train, y_train)\n",
    "print('Cross_validation score:\\n')\n",
    "cross_score"
   ]
  },
  {
   "cell_type": "code",
   "execution_count": null,
   "id": "ae50ece9",
   "metadata": {},
   "outputs": [],
   "source": [
    "results_df=results_df.append(pd.DataFrame(data=[['Ada Boost', *evaluate(y_train, train_pred), cross_score]], columns=['Model', 'accuracy', 'precision', 'recall', 'f1', 'balanced_accuracy', 'roc_auc', 'cross_score']))\n",
    "results_df"
   ]
  },
  {
   "cell_type": "code",
   "execution_count": null,
   "id": "97afbb35",
   "metadata": {},
   "outputs": [],
   "source": [
    "dt = DecisionTreeClassifier()\n",
    "dt.fit(X_train,y_train)"
   ]
  },
  {
   "cell_type": "code",
   "execution_count": null,
   "id": "b6a0e13f",
   "metadata": {},
   "outputs": [],
   "source": [
    "# predict target and make cross-validation\n",
    "\n",
    "train_pred = dt.predict(X_train)\n",
    "\n",
    "print('Train set evaluation:\\n')\n",
    "print_evaluate(y_train, train_pred)\n",
    "print('--------------------------------\\n')\n",
    "cross_score=cross_val(dt, X_train, y_train)\n",
    "print('Cross_validation score:\\n')\n",
    "cross_score"
   ]
  },
  {
   "cell_type": "code",
   "execution_count": null,
   "id": "affd26ac",
   "metadata": {
    "scrolled": true
   },
   "outputs": [],
   "source": [
    "results_df=results_df.append(pd.DataFrame(data=[['Decision Tree', *evaluate(y_train, train_pred), cross_score]], columns=['Model', 'accuracy', 'precision', 'recall', 'f1', 'balanced_accuracy', 'roc_auc', 'cross_score']))\n",
    "results_df"
   ]
  },
  {
   "cell_type": "code",
   "execution_count": null,
   "id": "17faa233",
   "metadata": {},
   "outputs": [],
   "source": [
    "cb = CatBoostClassifier(silent=True)\n",
    "cb.fit(X_train,y_train)"
   ]
  },
  {
   "cell_type": "code",
   "execution_count": null,
   "id": "ee8c68e3",
   "metadata": {},
   "outputs": [],
   "source": [
    "# predict target and make cross-validation\n",
    "\n",
    "train_pred = cb.predict(X_train)\n",
    "\n",
    "print('Train set evaluation:\\n')\n",
    "print_evaluate(y_train, train_pred)\n",
    "print('--------------------------------\\n')\n",
    "cross_score=cross_val(cb, X_train, y_train)\n",
    "print('Cross_validation score:\\n')\n",
    "cross_score"
   ]
  },
  {
   "cell_type": "code",
   "execution_count": null,
   "id": "dd8d1b70",
   "metadata": {},
   "outputs": [],
   "source": [
    "results_df=results_df.append(pd.DataFrame(data=[['Cat Boost', *evaluate(y_train, train_pred), cross_score]], columns=['Model', 'accuracy', 'precision', 'recall', 'f1', 'balanced_accuracy', 'roc_auc', 'cross_score']))\n",
    "results_df"
   ]
  },
  {
   "cell_type": "code",
   "execution_count": null,
   "id": "13975555",
   "metadata": {},
   "outputs": [],
   "source": [
    "xb = xgb.XGBClassifier().fit(X_train, y_train)"
   ]
  },
  {
   "cell_type": "code",
   "execution_count": null,
   "id": "f5365bbf",
   "metadata": {},
   "outputs": [],
   "source": [
    "# predict target and make cross-validation\n",
    "\n",
    "train_pred = xb.predict(X_train)\n",
    "\n",
    "print('Train set evaluation:\\n')\n",
    "print_evaluate(y_train, train_pred)\n",
    "print('--------------------------------\\n')\n",
    "cross_score=cross_val(xb, X_train, y_train)\n",
    "print('Cross_validation score:\\n')\n",
    "cross_score"
   ]
  },
  {
   "cell_type": "code",
   "execution_count": null,
   "id": "1666c881",
   "metadata": {},
   "outputs": [],
   "source": [
    "results_df=results_df.append(pd.DataFrame(data=[['XG Boost', *evaluate(y_train, train_pred), cross_score]], columns=['Model', 'accuracy', 'precision', 'recall', 'f1', 'balanced_accuracy', 'roc_auc', 'cross_score']))\n",
    "results_df"
   ]
  },
  {
   "cell_type": "code",
   "execution_count": null,
   "id": "6edec2d9",
   "metadata": {},
   "outputs": [],
   "source": [
    "lb = lgb.LGBMClassifier().fit(X_train, y_train)"
   ]
  },
  {
   "cell_type": "code",
   "execution_count": null,
   "id": "fa4a4af3",
   "metadata": {},
   "outputs": [],
   "source": [
    "# predict target and make cross-validation\n",
    "\n",
    "train_pred = lb.predict(X_train)\n",
    "\n",
    "print('Train set evaluation:\\n')\n",
    "print_evaluate(y_train, train_pred)\n",
    "print('--------------------------------\\n')\n",
    "cross_score=cross_val(lb, X_train, y_train)\n",
    "print('Cross_validation score:\\n')\n",
    "cross_score"
   ]
  },
  {
   "cell_type": "code",
   "execution_count": null,
   "id": "a2afb253",
   "metadata": {
    "scrolled": true
   },
   "outputs": [],
   "source": [
    "results_df=results_df.append(pd.DataFrame(data=[['Light GBM', *evaluate(y_train, train_pred), cross_score]], columns=['Model', 'accuracy', 'precision', 'recall', 'f1', 'balanced_accuracy', 'roc_auc', 'cross_score']))\n",
    "results_df"
   ]
  },
  {
   "cell_type": "code",
   "execution_count": null,
   "id": "49579766",
   "metadata": {},
   "outputs": [],
   "source": [
    "def perform_diffrent_algorythms(models, X_train, y_train):\n",
    "    results_df = pd.DataFrame()\n",
    "    for name, model in models.items():\n",
    "        \n",
    "        model.fit(X_train,y_train)\n",
    "        train_pred = model.predict(X_train)\n",
    "        cross_score=cross_val(model, X_train, y_train)\n",
    "        results_df=results_df.append(pd.DataFrame(data=[[name, *evaluate(y_train, train_pred), cross_score]], columns=['Model', 'accuracy', 'precision', 'recall', 'f1', 'balanced_accuracy', 'roc_auc', 'cross_score']))\n",
    "        \n",
    "    return results_df"
   ]
  },
  {
   "cell_type": "code",
   "execution_count": null,
   "id": "56533340",
   "metadata": {},
   "outputs": [],
   "source": [
    "models = {\n",
    "    'Logistic Regression' : LogisticRegression(), \n",
    "    'Lasso' : LogisticRegression(penalty='l1', solver='liblinear'), \n",
    "    'Ridge' : LogisticRegression(penalty='l2'),\n",
    "    'Support Vector Machines' : SVC(),\n",
    "    'Random Forest' : RandomForestClassifier(),\n",
    "    'KNearest Neighbours' : KNeighborsClassifier(),\n",
    "    'Decision Tree' : DecisionTreeClassifier(),\n",
    "    'Ada Boost' : AdaBoostClassifier(),\n",
    "    'Cat Boost' : CatBoostClassifier(silent=True),\n",
    "    'XG Boost' : xgb.XGBClassifier(),\n",
    "    'Light GBM' : lgb.LGBMClassifier()\n",
    "}"
   ]
  },
  {
   "cell_type": "code",
   "execution_count": null,
   "id": "62ef7af3",
   "metadata": {},
   "outputs": [],
   "source": [
    "dataset_without_news = dataset.drop(columns=['NewsOverall'])\n",
    "X_without_news = dataset_without_news.drop('FINANCIAL_DISTRESS',axis=1)\n",
    "y_without_news = dataset_without_news['FINANCIAL_DISTRESS']\n",
    "scaler = MinMaxScaler()\n",
    "X_without_news = scaler.fit_transform(X_without_news)\n",
    "oversample = SMOTE()\n",
    "X_without_news,y_without_news = oversample.fit_resample(X_without_news,y_without_news)\n",
    "X_train_without_news, X_test_without_news, y_train_without_news, y_test_without_news = train_test_split(X_without_news, y_without_news, test_size=0.25, random_state=102)"
   ]
  },
  {
   "cell_type": "code",
   "execution_count": null,
   "id": "ca7019ee",
   "metadata": {},
   "outputs": [],
   "source": [
    "perform_diffrent_algorythms(models, X_train_without_news, y_train_without_news)"
   ]
  },
  {
   "cell_type": "code",
   "execution_count": null,
   "id": "78246505",
   "metadata": {},
   "outputs": [],
   "source": [
    "dataset_without_MDandA = dataset.drop(columns=['polarity_MD&A', 'subjectivity_MD&A'])\n",
    "X_without_MDandA = dataset_without_MDandA.drop('FINANCIAL_DISTRESS',axis=1)\n",
    "y_without_MDandA = dataset_without_MDandA['FINANCIAL_DISTRESS']\n",
    "scaler = MinMaxScaler()\n",
    "X_without_MDandA = scaler.fit_transform(X_without_MDandA)\n",
    "oversample = SMOTE()\n",
    "X_without_MDandA,y_without_MDandA = oversample.fit_resample(X_without_MDandA,y_without_MDandA)\n",
    "X_train_without_MDandA, X_test_without_MDandA, y_train_without_MDandA, y_test_without_MDandA = train_test_split(X_without_MDandA, y_without_MDandA, test_size=0.25, random_state=103)"
   ]
  },
  {
   "cell_type": "code",
   "execution_count": null,
   "id": "28ae84a4",
   "metadata": {},
   "outputs": [],
   "source": [
    "perform_diffrent_algorythms(models, X_train_without_MDandA, y_train_without_MDandA)"
   ]
  },
  {
   "cell_type": "code",
   "execution_count": null,
   "id": "81f31c99",
   "metadata": {},
   "outputs": [],
   "source": [
    "dataset_only_financials = dataset.drop(columns=['polarity_MD&A', 'subjectivity_MD&A', 'NewsOverall'])\n",
    "X_only_financials = dataset_only_financials.drop('FINANCIAL_DISTRESS',axis=1)\n",
    "y_only_financials = dataset_only_financials['FINANCIAL_DISTRESS']\n",
    "scaler = MinMaxScaler()\n",
    "X_only_financials = scaler.fit_transform(X_only_financials)\n",
    "oversample = SMOTE()\n",
    "X_only_financials,y_only_financials = oversample.fit_resample(X_only_financials,y_only_financials)\n",
    "X_train_only_financials, X_test_only_financials, y_train_only_financials, y_test_only_financials = train_test_split(X_only_financials, y_only_financials, test_size=0.25, random_state=104)"
   ]
  },
  {
   "cell_type": "code",
   "execution_count": null,
   "id": "8ae36f02",
   "metadata": {
    "scrolled": true
   },
   "outputs": [],
   "source": [
    "perform_diffrent_algorythms(models, X_train_only_financials, y_train_only_financials)"
   ]
  },
  {
   "cell_type": "code",
   "execution_count": null,
   "id": "6d378d47",
   "metadata": {},
   "outputs": [],
   "source": [
    "def test_diffrent_algorythms(models, X_train, y_train, X_test, y_test):\n",
    "    testing_df = pd.DataFrame()\n",
    "    for name, model in models.items():\n",
    "        \n",
    "        model.fit(X_train,y_train)\n",
    "        predictions = model.predict(X_test)\n",
    "        testing_df = testing_df.append(pd.DataFrame(data=[[name, *evaluate(y_test, predictions)]], columns=['Model', 'accuracy', 'precision', 'recall', 'f1', 'balanced_accuracy', 'roc_auc']))\n",
    "        \n",
    "    return testing_df"
   ]
  },
  {
   "cell_type": "code",
   "execution_count": null,
   "id": "1989de07",
   "metadata": {
    "scrolled": true
   },
   "outputs": [],
   "source": [
    "test_diffrent_algorythms(models, X_train, y_train, X_test, y_test)"
   ]
  },
  {
   "cell_type": "code",
   "execution_count": null,
   "id": "44e56953",
   "metadata": {
    "scrolled": true
   },
   "outputs": [],
   "source": [
    "test_diffrent_algorythms(models, X_train_only_financials, y_train_only_financials, X_test_only_financials, y_test_only_financials)"
   ]
  },
  {
   "cell_type": "code",
   "execution_count": null,
   "id": "5a074fae",
   "metadata": {},
   "outputs": [],
   "source": [
    "test_diffrent_algorythms(models, X_train_without_news, y_train_without_news, X_test_without_news, y_test_without_news)"
   ]
  },
  {
   "cell_type": "code",
   "execution_count": null,
   "id": "771c51ae",
   "metadata": {
    "scrolled": true
   },
   "outputs": [],
   "source": [
    "test_diffrent_algorythms(models, X_train_without_MDandA, y_train_without_MDandA, X_test_without_MDandA, y_test_without_MDandA)"
   ]
  },
  {
   "cell_type": "code",
   "execution_count": null,
   "id": "a40133a4",
   "metadata": {
    "scrolled": true
   },
   "outputs": [],
   "source": [
    "import matplotlib.pyplot as plt\n",
    "\n",
    "all_features = test_diffrent_algorythms(models, X_train, y_train, X_test, y_test)['accuracy']\n",
    "only_financials = test_diffrent_algorythms(models, X_train_only_financials, y_train_only_financials, X_test_only_financials, y_test_only_financials)['accuracy']\n",
    "with_MDandA = test_diffrent_algorythms(models, X_train_without_news, y_train_without_news, X_test_without_news, y_test_without_news)['accuracy']\n",
    "with_news = test_diffrent_algorythms(models, X_train_without_MDandA, y_train_without_MDandA, X_test_without_MDandA, y_test_without_MDandA)['accuracy']"
   ]
  },
  {
   "cell_type": "code",
   "execution_count": null,
   "id": "60b59fa3",
   "metadata": {},
   "outputs": [],
   "source": [
    "x = [\n",
    "    'LR',\n",
    "    'Lasso',\n",
    "    'Ridge',\n",
    "    'SVM',\n",
    "    'RF',\n",
    "    'KNN',\n",
    "    'DT',\n",
    "    'AdaBoost',\n",
    "    'CatBoost',\n",
    "    'XGB',\n",
    "    'LightGBM'\n",
    "]\n",
    "\n",
    "fig, ax = plt.subplots(figsize=(18,6))\n",
    "\n",
    "ax.plot(x, all_features, label='All feaures', marker ='.', markersize=10)\n",
    "ax.plot(x, only_financials, label='Only financial indicators', marker ='.', markersize=10)\n",
    "ax.plot(x, with_MDandA, label='With MD&A polariry', marker ='.', markersize=10)\n",
    "ax.plot(x, with_news, label='With news polarity', marker ='.', markersize=10)\n",
    "leg = ax.legend()\n",
    "plt.savefig('filename.png', format='png', transparent=True)\n",
    "plt.show()"
   ]
  },
  {
   "cell_type": "code",
   "execution_count": null,
   "id": "12e77faf",
   "metadata": {},
   "outputs": [],
   "source": [
    "class GridSearch(object):\n",
    "    \n",
    "    def __init__(self,X_train,y_train,model,hyperparameters):\n",
    "        \n",
    "        self.X_train = X_train\n",
    "        self.y_train = y_train\n",
    "        self.model = model\n",
    "        self.hyperparameters = hyperparameters\n",
    "        \n",
    "    def GridSearch(self):\n",
    "        # Create randomized search 3-fold cross validation\n",
    "        cv = 3\n",
    "        clf = GridSearchCV(self.model,\n",
    "                                 self.hyperparameters,\n",
    "                                 cv=cv,\n",
    "                                 verbose=0,\n",
    "                                 n_jobs=-1,\n",
    "                                 )\n",
    "        # Fit randomized search\n",
    "        best_model = clf.fit(self.X_train, self.y_train)\n",
    "        message = (best_model.best_score_, best_model.best_params_)\n",
    "        print(\"Best: %f using %s\" % (message))\n",
    "\n",
    "        return best_model,best_model.best_params_\n",
    "    \n",
    "    def BestModelPredict(self,X_test):\n",
    "        \n",
    "        best_model,_ = self.GridSearch()\n",
    "        pred = best_model.predict(X_test)\n",
    "        return pred"
   ]
  },
  {
   "cell_type": "code",
   "execution_count": null,
   "id": "394a78b5",
   "metadata": {},
   "outputs": [],
   "source": [
    "params = {'depth':[6,7,8,9,10],\n",
    "          'iterations':[100,250,500,100]\n",
    "         }"
   ]
  },
  {
   "cell_type": "code",
   "execution_count": null,
   "id": "6ff58928",
   "metadata": {},
   "outputs": [],
   "source": [
    "cb = CatBoostClassifier()\n",
    "cb_GridSearch = GridSearch(X_train,y_train,cb,params)"
   ]
  },
  {
   "cell_type": "code",
   "execution_count": null,
   "id": "f72e3636",
   "metadata": {},
   "outputs": [],
   "source": [
    "prediction_cb = cb_GridSearch.BestModelPredict(X_test)"
   ]
  },
  {
   "cell_type": "code",
   "execution_count": null,
   "id": "5a470b6b",
   "metadata": {
    "scrolled": true
   },
   "outputs": [],
   "source": [
    "print('Test set evaluation:\\n')\n",
    "print_evaluate(y_test, prediction_cb)\n",
    "print('--------------------------------\\n')"
   ]
  },
  {
   "cell_type": "code",
   "execution_count": null,
   "id": "799ccaf4",
   "metadata": {},
   "outputs": [],
   "source": [
    "confusion_matrix = metrics.confusion_matrix(prediction_cb, y_test)\n",
    "sns.heatmap(confusion_matrix,\n",
    "            annot=True,\n",
    "            fmt='g')\n",
    "plt.ylabel('Prediction',fontsize=13)\n",
    "plt.xlabel('Actual',fontsize=13)\n",
    "plt.title('Confusion Matrix',fontsize=17)\n",
    "plt.show()"
   ]
  },
  {
   "cell_type": "code",
   "execution_count": null,
   "id": "0c71c8af",
   "metadata": {
    "scrolled": true
   },
   "outputs": [],
   "source": [
    "sns.set(font_scale=1.5)\n",
    "sns.set_color_codes(\"muted\")\n",
    "plt.figure(figsize=(10, 8))\n",
    "fpr, tpr, _ = metrics.roc_curve(y_test, prediction_cb)\n",
    "lw = 2\n",
    "plt.plot(fpr, tpr, lw=lw, label='ROC curve')\n",
    "plt.plot([0, 1], [0, 1])\n",
    "plt.xlim([0.0, 1.0])\n",
    "plt.ylim([0.0, 1.0])\n",
    "plt.xlabel('False Positive Rate')\n",
    "plt.ylabel('True Positive Rate')\n",
    "plt.title('ROC curve')\n",
    "plt.show()"
   ]
  },
  {
   "cell_type": "code",
   "execution_count": null,
   "id": "d87f366c",
   "metadata": {
    "scrolled": true
   },
   "outputs": [],
   "source": [
    "cb = CatBoostClassifier(depth=8, iterations=500)\n",
    "cb.fit(X_train,y_train)"
   ]
  },
  {
   "cell_type": "code",
   "execution_count": null,
   "id": "9ac10497",
   "metadata": {
    "scrolled": true
   },
   "outputs": [],
   "source": [
    "feature_scores = pd.Series(cb.feature_importances_, index=dataset.drop('FINANCIAL_DISTRESS',axis=1).columns).sort_values(ascending=False)\n",
    "feature_scores"
   ]
  },
  {
   "cell_type": "code",
   "execution_count": null,
   "id": "52fe5b88",
   "metadata": {},
   "outputs": [],
   "source": [
    "f, ax = plt.subplots(figsize=(30, 24))\n",
    "ax = sns.barplot(x=feature_scores, y=feature_scores.index)\n",
    "ax.set_title(\"Visualize feature scores of the features\")\n",
    "ax.set_yticklabels(feature_scores.index)\n",
    "ax.set_xlabel(\"Feature importance score\")\n",
    "ax.set_ylabel(\"Features\")\n",
    "plt.show()"
   ]
  }
 ],
 "metadata": {
  "kernelspec": {
   "display_name": "Python 3 (ipykernel)",
   "language": "python",
   "name": "python3"
  },
  "language_info": {
   "codemirror_mode": {
    "name": "ipython",
    "version": 3
   },
   "file_extension": ".py",
   "mimetype": "text/x-python",
   "name": "python",
   "nbconvert_exporter": "python",
   "pygments_lexer": "ipython3",
   "version": "3.9.13"
  }
 },
 "nbformat": 4,
 "nbformat_minor": 5
}
